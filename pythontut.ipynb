{
  "nbformat": 4,
  "nbformat_minor": 0,
  "metadata": {
    "colab": {
      "provenance": [],
      "authorship_tag": "ABX9TyPRbM13NXg4NSHZHG74dNbe",
      "include_colab_link": true
    },
    "kernelspec": {
      "name": "python3",
      "display_name": "Python 3"
    },
    "language_info": {
      "name": "python"
    }
  },
  "cells": [
    {
      "cell_type": "markdown",
      "metadata": {
        "id": "view-in-github",
        "colab_type": "text"
      },
      "source": [
        "<a href=\"https://colab.research.google.com/github/kedarnathgguthub/git-tuts/blob/main/pythontut.ipynb\" target=\"_parent\"><img src=\"https://colab.research.google.com/assets/colab-badge.svg\" alt=\"Open In Colab\"/></a>"
      ]
    },
    {
      "cell_type": "code",
      "execution_count": 1,
      "metadata": {
        "colab": {
          "base_uri": "https://localhost:8080/"
        },
        "id": "h2q999d6cz40",
        "outputId": "9fcba8da-ff8e-46d1-eca4-2b43e1547c6d"
      },
      "outputs": [
        {
          "output_type": "stream",
          "name": "stdout",
          "text": [
            "Collecting PySpark\n",
            "  Downloading pyspark-3.5.1.tar.gz (317.0 MB)\n",
            "\u001b[2K     \u001b[90m━━━━━━━━━━━━━━━━━━━━━━━━━━━━━━━━━━━━━━━━\u001b[0m \u001b[32m317.0/317.0 MB\u001b[0m \u001b[31m3.8 MB/s\u001b[0m eta \u001b[36m0:00:00\u001b[0m\n",
            "\u001b[?25h  Preparing metadata (setup.py) ... \u001b[?25l\u001b[?25hdone\n",
            "Requirement already satisfied: py4j==0.10.9.7 in /usr/local/lib/python3.10/dist-packages (from PySpark) (0.10.9.7)\n",
            "Building wheels for collected packages: PySpark\n",
            "  Building wheel for PySpark (setup.py) ... \u001b[?25l\u001b[?25hdone\n",
            "  Created wheel for PySpark: filename=pyspark-3.5.1-py2.py3-none-any.whl size=317488491 sha256=8ecdfce19b0e2f0a197e8311ca02ece5165513ff41ec480005a3eb3439bb5cb3\n",
            "  Stored in directory: /root/.cache/pip/wheels/80/1d/60/2c256ed38dddce2fdd93be545214a63e02fbd8d74fb0b7f3a6\n",
            "Successfully built PySpark\n",
            "Installing collected packages: PySpark\n",
            "Successfully installed PySpark-3.5.1\n"
          ]
        }
      ],
      "source": [
        "pip install PySpark\n"
      ]
    },
    {
      "cell_type": "code",
      "source": [
        "name = input(\"enter your name:\")\n",
        "print(name)"
      ],
      "metadata": {
        "colab": {
          "base_uri": "https://localhost:8080/"
        },
        "id": "sp7hgq8Kif1z",
        "outputId": "afa026c4-912e-4afd-d23b-0d8f2538aebd"
      },
      "execution_count": 12,
      "outputs": [
        {
          "output_type": "stream",
          "name": "stdout",
          "text": [
            "enter your name:kedarnath\n",
            "kedarnath\n"
          ]
        }
      ]
    },
    {
      "cell_type": "code",
      "source": [
        "a=input(\"a:\")\n",
        "b=input(\"b:\")\n",
        "if(a>b):\n",
        "  print(str(a) + \"is greater than\" + str(b))\n",
        "elif(a==b):\n",
        "  print(str(a) + \"is equal to\" + str(b))\n",
        "else:\n",
        "  print(str(a) + \"is less than\" + str(b))\n"
      ],
      "metadata": {
        "colab": {
          "base_uri": "https://localhost:8080/"
        },
        "id": "HS21wpVKpjxB",
        "outputId": "286f3edf-7fe0-43e9-b3f0-ece2d2c19e0a"
      },
      "execution_count": 31,
      "outputs": [
        {
          "output_type": "stream",
          "name": "stdout",
          "text": [
            "a:10\n",
            "b:15\n",
            "10is less than15\n"
          ]
        }
      ]
    },
    {
      "cell_type": "code",
      "source": [
        "price=float(input(\" enter price amount:\"))\n",
        "quantity=int(input(\"enter quantity amount:\"))\n",
        "tm = float(price * quantity)\n",
        "print(tm)"
      ],
      "metadata": {
        "colab": {
          "base_uri": "https://localhost:8080/"
        },
        "id": "DoDLaIXZj6na",
        "outputId": "f24df0e1-c826-4d76-9001-5221c45f8c37"
      },
      "execution_count": 27,
      "outputs": [
        {
          "output_type": "stream",
          "name": "stdout",
          "text": [
            " enter price amount:25.2\n",
            "enter quantity amount:2\n",
            "50.4\n"
          ]
        }
      ]
    },
    {
      "cell_type": "code",
      "source": [
        "i =1\n",
        "total_amt=0\n",
        "no_of_items = int( input(\"enter number of items:\"))\n",
        "while (i<=no_of_items):\n",
        "  myQty= float(input(\"Enter Qty: \"))\n",
        "  myPrice= float(input(\"Enter Price: \"))\n",
        "  total_amt =total_amt + (myQty*myPrice)\n",
        "  i = i+1\n",
        "print(\"Total Bill Amount is \" + str (total_amt))\n"
      ],
      "metadata": {
        "colab": {
          "base_uri": "https://localhost:8080/"
        },
        "id": "5w-L7ObpnqL0",
        "outputId": "ce298c93-a387-461b-ee48-432913aa5ac7"
      },
      "execution_count": 28,
      "outputs": [
        {
          "output_type": "stream",
          "name": "stdout",
          "text": [
            "enter number of items:2\n",
            "Enter Qty: 10\n",
            "Enter Price: 35.50\n",
            "Enter Qty: 15\n",
            "Enter Price: 63.5\n",
            "Total Bill Amount is 1307.5\n"
          ]
        }
      ]
    },
    {
      "cell_type": "code",
      "source": [
        "a=1\n",
        "b=3\n",
        "c=a+b\n",
        "print(c)"
      ],
      "metadata": {
        "colab": {
          "base_uri": "https://localhost:8080/"
        },
        "id": "cqvuUX_KpTq6",
        "outputId": "58dbec6b-6c5e-4ba5-a90f-344fe9409c12"
      },
      "execution_count": 29,
      "outputs": [
        {
          "output_type": "stream",
          "name": "stdout",
          "text": [
            "4\n"
          ]
        }
      ]
    }
  ]
}